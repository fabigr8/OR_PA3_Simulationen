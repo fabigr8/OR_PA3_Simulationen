{
 "cells": [
  {
   "cell_type": "markdown",
   "metadata": {},
   "source": [
    "# Monte Carlo Simulation 2"
   ]
  },
  {
   "cell_type": "code",
   "execution_count": 1,
   "metadata": {},
   "outputs": [],
   "source": [
    "import random, pylab"
   ]
  },
  {
   "cell_type": "code",
   "execution_count": 2,
   "metadata": {},
   "outputs": [],
   "source": [
    "\n",
    "class FairRoulette():\n",
    "    def __init__(self):\n",
    "        self.pockets = []\n",
    "        for i in range(1,37):\n",
    "            self.pockets.append(i)\n",
    "        self.ball = None\n",
    "        self.blackOdds, self.redOdds = 1.0, 1.0\n",
    "        self.pocketOdds = len(self.pockets) - 1.0\n",
    "    def spin(self):\n",
    "        self.ball = random.choice(self.pockets)\n",
    "    def isBlack(self):\n",
    "        if type(self.ball) != int:\n",
    "            return False\n",
    "        if ((self.ball > 0 and self.ball <= 10)\\\n",
    "            or (self.ball>18 and self.ball<=28)):\n",
    "            return self.ball%2 == 0\n",
    "        else:\n",
    "            return self.ball%2 == 1\n",
    "    def isRed(self):\n",
    "        return type(self.ball) == int and not self.isBlack()\n",
    "    def betBlack(self, amt):\n",
    "        if self.isBlack():\n",
    "            return amt*self.blackOdds\n",
    "        else: return -amt\n",
    "    def betRed(self, amt):\n",
    "        if self.isRed():\n",
    "            return amt*self.redOdds\n",
    "        else: return -amt*self.redOdds\n",
    "    def betPocket(self, pocket, amt):\n",
    "        if str(pocket) == str(self.ball):\n",
    "            return amt*self.pocketOdds\n",
    "        else: return -amt\n",
    "    def __str__(self):\n",
    "        return 'Fair Roulette'\n",
    "\n",
    "# Europäisches Roulette\n",
    "class EuRoulette(FairRoulette):\n",
    "    def __init__(self):\n",
    "        FairRoulette.__init__(self)\n",
    "        self.pockets.append('0')\n",
    "    def __str__(self):\n",
    "        return 'European Roulette'\n",
    "\n",
    "# Amerikanisches Roulette \n",
    "class AmRoulette(EuRoulette):\n",
    "    def __init__(self):\n",
    "        EuRoulette.__init__(self)\n",
    "        self.pockets.append('00')\n",
    "    def __str__(self):\n",
    "        return 'American Roulette'"
   ]
  },
  {
   "cell_type": "code",
   "execution_count": 3,
   "metadata": {},
   "outputs": [],
   "source": [
    "def playRoulette(game, numSpins, toPrint = True):\n",
    "    luckyNumber = '2'\n",
    "    bet = 1\n",
    "    totRed, totBlack, totPocket = 0.0, 0.0, 0.0\n",
    "    for i in range(numSpins):\n",
    "        game.spin()\n",
    "        totRed += game.betRed(bet)\n",
    "        totBlack += game.betBlack(bet)\n",
    "        totPocket += game.betPocket(luckyNumber, bet)\n",
    "    if toPrint:\n",
    "        print(numSpins, 'spins of', game)\n",
    "        print('Expected return betting red =',\n",
    "              str(100*totRed/numSpins) + '%')\n",
    "        print('Expected return betting black =', \n",
    "              str(100*totBlack/numSpins) + '%')\n",
    "        print('Expected return betting', luckyNumber, '=',\\\n",
    "              str(100*totPocket/numSpins) + '%\\n')\n",
    "    return (totRed/numSpins, totBlack/numSpins, totPocket/numSpins)\n",
    "\n",
    "#numSpins = 10000000\n",
    "#game = FairRoulette()\n",
    "#playRoulette(game, numSpins)\n",
    "\n",
    "\n",
    "\n",
    "def findPocketReturn(game, numTrials, trialSize, toPrint):\n",
    "    pocketReturns = []\n",
    "    for t in range(numTrials):\n",
    "        trialVals = playRoulette(game, trialSize, toPrint)\n",
    "        pocketReturns.append(trialVals[2])\n",
    "    return pocketReturns\n"
   ]
  },
  {
   "cell_type": "code",
   "execution_count": 5,
   "metadata": {},
   "outputs": [
    {
     "name": "stdout",
     "output_type": "stream",
     "text": [
      "\n",
      "Simulate betting a pocket for 20 trials of 100 spins each\n",
      "Exp. return for Fair Roulette = 6.199999999999998%\n",
      "Exp. return for European Roulette = -8.200000000000001%\n",
      "Exp. return for American Roulette = 2.599999999999998%\n",
      "\n",
      "Simulate betting a pocket for 20 trials of 1000 spins each\n",
      "Exp. return for Fair Roulette = 4.760000000000002%\n",
      "Exp. return for European Roulette = -2.4399999999999995%\n",
      "Exp. return for American Roulette = -9.46%\n",
      "\n",
      "Simulate betting a pocket for 20 trials of 10000 spins each\n",
      "Exp. return for Fair Roulette = -1.3060000000000003%\n",
      "Exp. return for European Roulette = -4.095999999999999%\n",
      "Exp. return for American Roulette = -5.698000000000001%\n",
      "\n",
      "Simulate betting a pocket for 20 trials of 100000 spins each\n",
      "Exp. return for Fair Roulette = 0.7982%\n",
      "Exp. return for European Roulette = -2.5876000000000006%\n",
      "Exp. return for American Roulette = -5.134600000000001%\n"
     ]
    }
   ],
   "source": [
    "random.seed(0)\n",
    "numTrials = 20\n",
    "resultDict = {}\n",
    "games = (FairRoulette, EuRoulette, AmRoulette)\n",
    "\n",
    "for G in games:\n",
    "    resultDict[G().__str__()] = []\n",
    "for numSpins in (100, 1000, 10000, 100000):\n",
    "    print('\\nSimuliere', numTrials,\n",
    "          'Versuche, mit',\n",
    "          numSpins, 'Drehungen am Roulette')\n",
    "    for G in games:\n",
    "        pocketReturns = findPocketReturn(G(), numTrials,\n",
    "                                         numSpins, False)\n",
    "        print('Erwarteter Gewinn', G(), '=',\n",
    "             str(100*sum(pocketReturns)/float(len(pocketReturns))) + '%')\n"
   ]
  },
  {
   "cell_type": "code",
   "execution_count": 6,
   "metadata": {},
   "outputs": [],
   "source": [
    "\n",
    "def getMeanAndStd(X):\n",
    "    mean = sum(X)/float(len(X))\n",
    "    tot = 0.0\n",
    "    for x in X:\n",
    "        tot += (x - mean)**2\n",
    "    std = (tot/len(X))**0.5\n",
    "    return mean, std\n"
   ]
  },
  {
   "cell_type": "code",
   "execution_count": 7,
   "metadata": {},
   "outputs": [
    {
     "name": "stdout",
     "output_type": "stream",
     "text": [
      "\n",
      "Simulate betting a pocket for 20 trials of 100 spins each\n",
      "Exp. return for Fair Roulette = 6.2%, +/- 152.114% with 95% confidence\n",
      "Exp. return for European Roulette = -8.2%, +/- 90.567% with 95% confidence\n",
      "Exp. return for American Roulette = 2.6%, +/- 92.74% with 95% confidence\n",
      "\n",
      "Simulate betting a pocket for 20 trials of 1000 spins each\n",
      "Exp. return for Fair Roulette = 4.76%, +/- 39.658% with 95% confidence\n",
      "Exp. return for European Roulette = -2.44%, +/- 31.31% with 95% confidence\n",
      "Exp. return for American Roulette = -9.46%, +/- 36.273% with 95% confidence\n",
      "\n",
      "Simulate betting a pocket for 20 trials of 10000 spins each\n",
      "Exp. return for Fair Roulette = -1.306%, +/- 9.295% with 95% confidence\n",
      "Exp. return for European Roulette = -4.096%, +/- 10.902% with 95% confidence\n",
      "Exp. return for American Roulette = -5.698%, +/- 11.077% with 95% confidence\n"
     ]
    },
    {
     "data": {
      "image/png": "[encoded data removed]",
      "text/plain": [
       "<Figure size 432x288 with 1 Axes>"
      ]
     },
     "metadata": {
      "needs_background": "light"
     },
     "output_type": "display_data"
    }
   ],
   "source": [
    "\n",
    "random.seed(0)\n",
    "numTrials = 20\n",
    "resultDict = {}\n",
    "games = (FairRoulette, EuRoulette, AmRoulette)\n",
    "for G in games:\n",
    "    resultDict[G().__str__()] = []\n",
    "for numSpins in (100, 1000, 10000):\n",
    "    print('\\nSimuliere', numTrials,\n",
    "          'Versuche, mit je', numSpins, 'Drehungen am Roulette')\n",
    "    for G in games:\n",
    "        pocketReturns = findPocketReturn(G(), 20, numSpins, False)\n",
    "        mean, std = getMeanAndStd(pocketReturns)\n",
    "        resultDict[G().__str__()].append((numSpins,\n",
    "                                          100*mean, 100*std))\n",
    "        print('Erwarteter Gewinn/Verlust', G(), '=', str(round(100*mean, 3))\n",
    "              + '%,', '+/- ' + str(round(100*1.96*std, 3))\n",
    "              + '% mit 95% Konfidenz')\n",
    "              \n",
    "\n",
    "def plotReturn(resultDict):\n",
    "    for k in resultDict:\n",
    "        xVals, yVals, eVals = [], [], []\n",
    "        for trial in resultDict[k]:\n",
    "            xVals.append(trial[0])\n",
    "            yVals.append(trial[1])\n",
    "            eVals.append(trial[2])\n",
    "        pylab.errorbar(xVals, yVals, yerr = eVals, label = k, marker = 'o')\n",
    "    pylab.legend()\n",
    "    pylab.xlabel('Spins per trial', fontsize = 'x-large')\n",
    "    pylab.ylabel('Expected percentage return', fontsize = 'x-large')\n",
    "    pylab.title('Expected Return Betting a Pocket', fontsize = 'x-large')\n",
    "    pylab.semilogx()\n",
    "    minX, maxX = pylab.xlim()\n",
    "    pylab.xlim(1, maxX + 100000)\n",
    "#    \n",
    "plotReturn(resultDict)\n",
    "#assert False\n"
   ]
  },
  {
   "cell_type": "code",
   "execution_count": 16,
   "metadata": {},
   "outputs": [
    {
     "name": "stdout",
     "output_type": "stream",
     "text": [
      "Mean of rolling 1 die = 2.5034358148091855 Std = 1.442431731346342\n",
      "Mean of rolling 50 dice = 2.495727482133078 Std = 0.19971726578732749\n"
     ]
    },
    {
     "data": {
      "text/plain": [
       "<matplotlib.legend.Legend at 0x205e67a62e0>"
      ]
     },
     "execution_count": 16,
     "metadata": {},
     "output_type": "execute_result"
    },
    {
     "data": {
      "image/png": "[encoded data removed]",
      "text/plain": [
       "<Figure size 432x288 with 1 Axes>"
      ]
     },
     "metadata": {
      "needs_background": "light"
     },
     "output_type": "display_data"
    }
   ],
   "source": [
    "\n",
    "def plotMeans(numDice, numRolls, numBins, legend, color, style):\n",
    "    means = []\n",
    "    for i in range(numRolls//numDice):\n",
    "        vals = 0\n",
    "        for j in range(numDice):\n",
    "            vals += 5*random.random() \n",
    "        means.append(vals/float(numDice))\n",
    "    pylab.hist(means, numBins, color = color, label = legend,\n",
    "               weights = pylab.array(len(means)*[1.0])/len(means),\n",
    "               hatch = style)\n",
    "    return getMeanAndStd(means)\n",
    " \n",
    "mean, std = plotMeans(1, 100000, 11, '1 die', 'b', '*')\n",
    "print('Mean of rolling 1 die =', mean, 'Std =', std)\n",
    "mean, std = plotMeans(50, 100000, 11, 'Mean of 50 dice', 'r', '//')\n",
    "print('Mean of rolling 50 dice =', mean, 'Std =', std)\n",
    "pylab.title('Rolling Continuous Dice')\n",
    "pylab.xlabel('Value')\n",
    "pylab.ylabel('Probability')\n",
    "pylab.legend()\n",
    "\n",
    "#keine Gaussche Verteilung da nicht unendlich durchgeführt\n"
   ]
  },
  {
   "cell_type": "code",
   "execution_count": 17,
   "metadata": {},
   "outputs": [
    {
     "data": {
      "image/png": "[encoded data removed]",
      "text/plain": [
       "<Figure size 432x288 with 1 Axes>"
      ]
     },
     "metadata": {
      "needs_background": "light"
     },
     "output_type": "display_data"
    }
   ],
   "source": [
    "\n",
    "def leaveAhead(game, stake, bet, numTrials):\n",
    "    numAhead = 0.0\n",
    "    for t in range(numTrials):\n",
    "        bankRoll = stake\n",
    "        curBet = bet\n",
    "        while bankRoll > 0 and bankRoll <= 2*stake:\n",
    "            game.spin()\n",
    "            outcome = game.betBlack(curBet)\n",
    "            bankRoll += outcome\n",
    "            if outcome < 0:\n",
    "                curBet = min(2*curBet, bankRoll)\n",
    "            #print curBet, bankRoll\n",
    "        if bankRoll > stake:\n",
    "            numAhead += 1\n",
    "    return numAhead/numTrials\n",
    "\n",
    "stake = 1\n",
    "bet = 1\n",
    "numTrials = 100000\n",
    "successProb, stakes = [], []\n",
    "for i in range(10):\n",
    "    stakes.append(10**i)\n",
    "    successProb.append(leaveAhead(AmRoulette(), 10**i, bet, numTrials))\n",
    "pylab.plot(stakes, successProb)\n",
    "pylab.xlabel('Bankroll')\n",
    "pylab.ylabel('Probability of Winning')\n",
    "pylab.semilogx()\n",
    "pylab.show()"
   ]
  },
  {
   "cell_type": "code",
   "execution_count": null,
   "metadata": {},
   "outputs": [],
   "source": [
    "import scipy.integratedef gaussian(x, mu, sigma)...\n",
    "\n",
    "def checkEmpirical(numTrials):for t in range(numTrials):mu = random.randint(-10, 10)sigma = random.randint(1, 10)print('For mu =', mu, 'and sigma =', sigma)for numStd in (1, 1.96, 3):area = scipy.integrate.quad(gaussian,mu-numStd*sigma,mu+numStd*sigma,(mu, sigma))[0]print(' Fraction within', numStd,'std =', round(area, 4))"
   ]
  }
 ],
 "metadata": {
  "kernelspec": {
   "display_name": "Python 3",
   "language": "python",
   "name": "python3"
  },
  "language_info": {
   "codemirror_mode": {
    "name": "ipython",
    "version": 3
   },
   "file_extension": ".py",
   "mimetype": "text/x-python",
   "name": "python",
   "nbconvert_exporter": "python",
   "pygments_lexer": "ipython3",
   "version": "3.8.2"
  }
 },
 "nbformat": 4,
 "nbformat_minor": 4
}
