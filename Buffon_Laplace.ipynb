{
 "cells": [
  {
   "cell_type": "markdown",
   "metadata": {},
   "source": [
    "# Buffon-Laplace Experiment Simulated in Python"
   ]
  },
  {
   "cell_type": "markdown",
   "metadata": {},
   "source": [
    "## einfache implementierung"
   ]
  },
  {
   "cell_type": "code",
   "execution_count": 1,
   "metadata": {},
   "outputs": [],
   "source": [
    "import random, pylab, statistics, numpy, math"
   ]
  },
  {
   "cell_type": "code",
   "execution_count": 2,
   "metadata": {},
   "outputs": [],
   "source": [
    "\n",
    "\n",
    "def throwNeedles(numNeedles):\n",
    "    inCircle = 0\n",
    "    for Needles in range(1, numNeedles + 1, 1):\n",
    "        x = random.random()\n",
    "        y = random.random()\n",
    "        if (x*x + y*y)**0.5 <= 1.0:\n",
    "            inCircle += 1\n",
    "    return 4*(inCircle/float(numNeedles))\n",
    "\n",
    "def getEst(numNeedles, numTrials):\n",
    "    estimates = []\n",
    "    for t in range(numTrials):\n",
    "        piGuess = throwNeedles(numNeedles)\n",
    "        estimates.append(piGuess)\n",
    "    sDev = numpy.std(estimates)\n",
    "    curEst = sum(estimates)/len(estimates)\n",
    "    print('Est. = ' + str(curEst) +\\\n",
    "          ', Std. dev. = ' + str(round(sDev, 6))\\\n",
    "          + ', Needles = ' + str(numNeedles))\n",
    "    return (curEst, sDev)\n",
    "\n"
   ]
  },
  {
   "cell_type": "code",
   "execution_count": 3,
   "metadata": {},
   "outputs": [
    {
     "name": "stdout",
     "output_type": "stream",
     "text": [
      "Est. = 3.1352, Std. dev. = 0.031435, Needles = 1000\n",
      "Est. = 3.1568000000000005, Std. dev. = 0.035589, Needles = 2000\n",
      "Est. = 3.1414, Std. dev. = 0.024731, Needles = 4000\n",
      "Est. = 3.14545, Std. dev. = 0.014489, Needles = 8000\n",
      "Est. = 3.137425, Std. dev. = 0.013757, Needles = 16000\n",
      "Est. = 3.142025, Std. dev. = 0.006106, Needles = 32000\n",
      "Est. = 3.1431062499999998, Std. dev. = 0.005058, Needles = 64000\n",
      "Est. = 3.1408187499999998, Std. dev. = 0.004557, Needles = 128000\n",
      "Est. = 3.141640625, Std. dev. = 0.003266, Needles = 256000\n",
      "Est. = 3.1409320312499998, Std. dev. = 0.002122, Needles = 512000\n"
     ]
    },
    {
     "data": {
      "text/plain": [
       "3.1409320312499998"
      ]
     },
     "execution_count": 3,
     "metadata": {},
     "output_type": "execute_result"
    }
   ],
   "source": [
    "\n",
    "def estPi(precision, numTrials):\n",
    "    numNeedles = 1000\n",
    "    sDev = precision\n",
    "    while sDev >= precision/1.96:\n",
    "        curEst, sDev = getEst(numNeedles, numTrials)\n",
    "        numNeedles *= 2\n",
    "    return curEst\n",
    "\n",
    "random.seed(0)\n",
    "estPi(0.005, 10)"
   ]
  },
  {
   "cell_type": "markdown",
   "metadata": {},
   "source": [
    "## integration Test"
   ]
  },
  {
   "cell_type": "code",
   "execution_count": 4,
   "metadata": {},
   "outputs": [],
   "source": [
    "#set line width\n",
    "pylab.rcParams['lines.linewidth'] = 4\n",
    "#set font size for titles \n",
    "pylab.rcParams['axes.titlesize'] = 20\n",
    "#set font size for labels on axes\n",
    "pylab.rcParams['axes.labelsize'] = 20\n",
    "#set size of numbers on x-axis\n",
    "pylab.rcParams['xtick.labelsize'] = 16\n",
    "#set size of numbers on y-axis\n",
    "pylab.rcParams['ytick.labelsize'] = 16\n",
    "#set size of ticks on x-axis\n",
    "pylab.rcParams['xtick.major.size'] = 7\n",
    "#set size of ticks on y-axis\n",
    "pylab.rcParams['ytick.major.size'] = 7\n",
    "#set size of markers, e.g., circles representing points\n",
    "pylab.rcParams['lines.markersize'] = 10\n",
    "#set number of times marker is shown when displaying legend\n",
    "pylab.rcParams['legend.numpoints'] = 1"
   ]
  },
  {
   "cell_type": "code",
   "execution_count": 5,
   "metadata": {},
   "outputs": [],
   "source": [
    "def integrate(f, a, b, step):\n",
    "    yVals, xVals = [], []\n",
    "    xVal = a\n",
    "    while xVal <= b:\n",
    "        xVals.append(xVal)\n",
    "        yVals.append(f(xVal))\n",
    "        xVal += step\n",
    "    pylab.plot(xVals, yVals)\n",
    "    pylab.title('sin(x)')\n",
    "    pylab.xlim(a, b)\n",
    "    xUnders, yUnders, xOvers, yOvers = [],[],[],[]\n",
    "    for i in range(500):\n",
    "        xVal = random.uniform(a, b)\n",
    "        yVal = random.uniform(0, 1)\n",
    "        if yVal < f(xVal):\n",
    "            xUnders.append(xVal)\n",
    "            yUnders.append(yVal)\n",
    "        else:\n",
    "            xOvers.append(xVal)\n",
    "            yOvers.append(yVal)\n",
    "    pylab.plot(xUnders, yUnders, 'ro')\n",
    "    pylab.plot(xOvers, yOvers, 'ko')\n",
    "    pylab.xlim(a, b)\n",
    "    ratio = len(xUnders)/(len(xUnders) + len(yUnders))\n",
    "    print(ratio)\n",
    "    print(ratio*b)\n",
    "    \n",
    "def one(x):\n",
    "    return 0.9\n",
    "    \n"
   ]
  },
  {
   "cell_type": "code",
   "execution_count": 6,
   "metadata": {},
   "outputs": [
    {
     "name": "stdout",
     "output_type": "stream",
     "text": [
      "0.5\n",
      "1.5707963267948966\n"
     ]
    },
    {
     "data": {
      "image/png": "[encoded data removed]",
      "text/plain": [
       "<Figure size 432x288 with 1 Axes>"
      ]
     },
     "metadata": {
      "needs_background": "light"
     },
     "output_type": "display_data"
    }
   ],
   "source": [
    "integrate(one, 0, math.pi, 0.001)"
   ]
  }
 ],
 "metadata": {
  "kernelspec": {
   "display_name": "Python 3",
   "language": "python",
   "name": "python3"
  },
  "language_info": {
   "codemirror_mode": {
    "name": "ipython",
    "version": 3
   },
   "file_extension": ".py",
   "mimetype": "text/x-python",
   "name": "python",
   "nbconvert_exporter": "python",
   "pygments_lexer": "ipython3",
   "version": "3.8.2"
  }
 },
 "nbformat": 4,
 "nbformat_minor": 4
}
