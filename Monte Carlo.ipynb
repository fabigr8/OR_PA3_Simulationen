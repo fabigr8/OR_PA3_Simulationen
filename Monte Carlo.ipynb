{
 "cells": [
  {
   "cell_type": "markdown",
   "metadata": {},
   "source": [
    "# Monte Carlo Simulation 1"
   ]
  },
  {
   "cell_type": "code",
   "execution_count": 4,
   "metadata": {},
   "outputs": [],
   "source": [
    "#import needed bibs & libs\n",
    "import random"
   ]
  },
  {
   "cell_type": "code",
   "execution_count": 5,
   "metadata": {},
   "outputs": [],
   "source": [
    "class FairRoulette(): \n",
    "    def __init__(self): \n",
    "        self.pockets = [] \n",
    "        for i in range(1,37): \n",
    "            self.pockets.append(i) \n",
    "            self.ball = None \n",
    "            self.pocketOdds = len(self.pockets) - 1 \n",
    "    \n",
    "    def spin(self): \n",
    "        self.ball = random.choice(self.pockets) \n",
    "        \n",
    "    def betPocket(self, pocket, amt): \n",
    "        if str(pocket) == str(self.ball): \n",
    "            return amt*self.pocketOdds \n",
    "        else: return -amt \n",
    "        \n",
    "    def __str__(self): \n",
    "        return 'Fairen Roulette' "
   ]
  },
  {
   "cell_type": "code",
   "execution_count": 6,
   "metadata": {},
   "outputs": [],
   "source": [
    "def simRoulette(game, numSpins, pocket, bet, toPrint): \n",
    "    totPocket = 0 \n",
    "    for i in range(numSpins): \n",
    "        game.spin()\n",
    "        totPocket += game.betPocket(pocket, bet) \n",
    "    if toPrint: \n",
    "        print(numSpins, 'Drehungen am', game) \n",
    "        print('Erwarteter Gewinn wenn wir auf', pocket, 'setzen', '=', str(100*totPocket/numSpins) + '%\\n') \n",
    "    return (totPocket/numSpins) \n"
   ]
  },
  {
   "cell_type": "code",
   "execution_count": 7,
   "metadata": {},
   "outputs": [
    {
     "name": "stdout",
     "output_type": "stream",
     "text": [
      "100 Drehungen am Fairen Roulette\n",
      "Erwarteter Gewinn wenn wir auf 2 setzen = 8.0%\n",
      "\n",
      "100 Drehungen am Fairen Roulette\n",
      "Erwarteter Gewinn wenn wir auf 2 setzen = 8.0%\n",
      "\n",
      "100 Drehungen am Fairen Roulette\n",
      "Erwarteter Gewinn wenn wir auf 2 setzen = 80.0%\n",
      "\n",
      "100 Drehungen am Fairen Roulette\n",
      "Erwarteter Gewinn wenn wir auf 2 setzen = -64.0%\n",
      "\n",
      "100 Drehungen am Fairen Roulette\n",
      "Erwarteter Gewinn wenn wir auf 2 setzen = -28.0%\n",
      "\n",
      "100 Drehungen am Fairen Roulette\n",
      "Erwarteter Gewinn wenn wir auf 2 setzen = -28.0%\n",
      "\n",
      "1000000 Drehungen am Fairen Roulette\n",
      "Erwarteter Gewinn wenn wir auf 2 setzen = 0.0332%\n",
      "\n",
      "1000000 Drehungen am Fairen Roulette\n",
      "Erwarteter Gewinn wenn wir auf 2 setzen = -0.3088%\n",
      "\n",
      "1000000 Drehungen am Fairen Roulette\n",
      "Erwarteter Gewinn wenn wir auf 2 setzen = 0.1304%\n",
      "\n",
      "1000000 Drehungen am Fairen Roulette\n",
      "Erwarteter Gewinn wenn wir auf 2 setzen = -0.2224%\n",
      "\n",
      "1000000 Drehungen am Fairen Roulette\n",
      "Erwarteter Gewinn wenn wir auf 2 setzen = -0.8596%\n",
      "\n",
      "1000000 Drehungen am Fairen Roulette\n",
      "Erwarteter Gewinn wenn wir auf 2 setzen = -0.3592%\n",
      "\n"
     ]
    }
   ],
   "source": [
    "game = FairRoulette() \n",
    "for numSpins in (100, 1000000): \n",
    "    for i in range(6): \n",
    "        simRoulette(game, numSpins, 2, 1, True)"
   ]
  },
  {
   "cell_type": "markdown",
   "metadata": {},
   "source": [
    "## 2. Neues Roulette"
   ]
  },
  {
   "cell_type": "code",
   "execution_count": 8,
   "metadata": {},
   "outputs": [],
   "source": [
    "class EuRoulette(FairRoulette): \n",
    "    def __init__(self): \n",
    "        FairRoulette.__init__(self) \n",
    "        self.pockets.append('0') \n",
    "    def __str__(self): \n",
    "        return 'Europäisches Roulette' \n",
    "    \n",
    "class AmRoulette(EuRoulette): \n",
    "    def __init__(self): \n",
    "        EuRoulette.__init__(self) \n",
    "        self.pockets.append('00') \n",
    "    def __str__(self): return 'Amerikanisches Roulette'"
   ]
  },
  {
   "cell_type": "code",
   "execution_count": 9,
   "metadata": {},
   "outputs": [
    {
     "name": "stdout",
     "output_type": "stream",
     "text": [
      "100 Drehungen am Europäisches Roulette\n",
      "Erwarteter Gewinn wenn wir auf 2 setzen = -28.0%\n",
      "\n",
      "100 Drehungen am Europäisches Roulette\n",
      "Erwarteter Gewinn wenn wir auf 2 setzen = 8.0%\n",
      "\n",
      "100 Drehungen am Europäisches Roulette\n",
      "Erwarteter Gewinn wenn wir auf 2 setzen = -28.0%\n",
      "\n",
      "1000000 Drehungen am Europäisches Roulette\n",
      "Erwarteter Gewinn wenn wir auf 2 setzen = -1.936%\n",
      "\n",
      "1000000 Drehungen am Europäisches Roulette\n",
      "Erwarteter Gewinn wenn wir auf 2 setzen = -2.6452%\n",
      "\n",
      "1000000 Drehungen am Europäisches Roulette\n",
      "Erwarteter Gewinn wenn wir auf 2 setzen = -1.3708%\n",
      "\n"
     ]
    }
   ],
   "source": [
    "game = EuRoulette() \n",
    "for numSpins in (100, 1000000): \n",
    "    for i in range(3): \n",
    "        simRoulette(game, numSpins, 2, 1, True)"
   ]
  },
  {
   "cell_type": "code",
   "execution_count": 10,
   "metadata": {},
   "outputs": [
    {
     "name": "stdout",
     "output_type": "stream",
     "text": [
      "100 Drehungen am Amerikanisches Roulette\n",
      "Erwarteter Gewinn wenn wir auf 2 setzen = 8.0%\n",
      "\n",
      "100 Drehungen am Amerikanisches Roulette\n",
      "Erwarteter Gewinn wenn wir auf 2 setzen = -28.0%\n",
      "\n",
      "100 Drehungen am Amerikanisches Roulette\n",
      "Erwarteter Gewinn wenn wir auf 2 setzen = -64.0%\n",
      "\n",
      "1000000 Drehungen am Amerikanisches Roulette\n",
      "Erwarteter Gewinn wenn wir auf 2 setzen = -5.2552%\n",
      "\n",
      "1000000 Drehungen am Amerikanisches Roulette\n",
      "Erwarteter Gewinn wenn wir auf 2 setzen = -5.3596%\n",
      "\n",
      "1000000 Drehungen am Amerikanisches Roulette\n",
      "Erwarteter Gewinn wenn wir auf 2 setzen = -5.7412%\n",
      "\n"
     ]
    }
   ],
   "source": [
    "game = AmRoulette() \n",
    "for numSpins in (100, 1000000): \n",
    "    for i in range(3): \n",
    "        simRoulette(game, numSpins, 2, 1, True)"
   ]
  }
 ],
 "metadata": {
  "kernelspec": {
   "display_name": "Python 3",
   "language": "python",
   "name": "python3"
  },
  "language_info": {
   "codemirror_mode": {
    "name": "ipython",
    "version": 3
   },
   "file_extension": ".py",
   "mimetype": "text/x-python",
   "name": "python",
   "nbconvert_exporter": "python",
   "pygments_lexer": "ipython3",
   "version": "3.8.2"
  }
 },
 "nbformat": 4,
 "nbformat_minor": 4
}
